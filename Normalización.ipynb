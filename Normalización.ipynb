{
 "cells": [
  {
   "cell_type": "markdown",
   "metadata": {},
   "source": [
    "### **Carga y verificación de los datos**\n",
    "\n",
    "NOTA: Falta acomodar la carga de los archivos en automatico"
   ]
  },
  {
   "cell_type": "code",
   "execution_count": 1,
   "metadata": {},
   "outputs": [
    {
     "name": "stdout",
     "output_type": "stream",
     "text": [
      "Archivo D:/Desktop/simulacion_3/Notebooks/data_latinoamerica.csv cargado y leído con éxito.\n"
     ]
    }
   ],
   "source": [
    "import pandas as pd\n",
    "import tkinter as tk\n",
    "from tkinter import filedialog\n",
    "\n",
    "# Crear la ventana raíz de tkinter y ocultarla\n",
    "root = tk.Tk()\n",
    "root.withdraw()\n",
    "\n",
    "# Abrir el cuadro de diálogo de selección de archivo\n",
    "file_path = filedialog.askopenfilename(\n",
    "    title=\"Seleccionar archivo CSV\",\n",
    "    filetypes=[(\"CSV files\", \".csv\"), (\"All files\", \".*\")]\n",
    ")\n",
    "\n",
    "# Leer el archivo CSV\n",
    "if file_path:\n",
    "    data = pd.read_csv(file_path)\n",
    "    print(f\"Archivo {file_path} cargado y leído con éxito.\")\n",
    "else:\n",
    "    print(\"No se seleccionó ningún archivo.\")"
   ]
  },
  {
   "cell_type": "code",
   "execution_count": 3,
   "metadata": {},
   "outputs": [
    {
     "data": {
      "text/plain": [
       "Index(['location_key', 'date', 'country_code', 'country_name', 'new_confirmed',\n",
       "       'new_deceased', 'cumulative_confirmed', 'cumulative_deceased',\n",
       "       'cumulative_vaccine_doses_administered', 'population',\n",
       "       'population_male', 'population_female', 'population_rural',\n",
       "       'population_urban', 'population_density', 'human_development_index',\n",
       "       'population_age_00_09', 'population_age_10_19', 'population_age_20_29',\n",
       "       'population_age_30_39', 'population_age_40_49', 'population_age_50_59',\n",
       "       'population_age_60_69', 'population_age_70_79',\n",
       "       'population_age_80_and_older', 'gdp_usd', 'gdp_per_capita_usd',\n",
       "       'latitude', 'longitude', 'area_sq_km', 'smoking_prevalence',\n",
       "       'diabetes_prevalence', 'infant_mortality_rate', 'nurses_per_1000',\n",
       "       'physicians_per_1000', 'average_temperature_celsius',\n",
       "       'minimum_temperature_celsius', 'maximum_temperature_celsius',\n",
       "       'rainfall_mm', 'relative_humidity', 'population_largest_city',\n",
       "       'area_rural_sq_km', 'area_urban_sq_km', 'life_expectancy',\n",
       "       'adult_male_mortality_rate', 'adult_female_mortality_rate',\n",
       "       'pollution_mortality_rate', 'comorbidity_mortality_rate',\n",
       "       'new_recovered', 'cumulative_recovered'],\n",
       "      dtype='object')"
      ]
     },
     "execution_count": 3,
     "metadata": {},
     "output_type": "execute_result"
    }
   ],
   "source": [
    "data.columns"
   ]
  },
  {
   "cell_type": "code",
   "execution_count": 4,
   "metadata": {},
   "outputs": [],
   "source": [
    "# Lista de códigos de los países a conservar\n",
    "paises = ['AR', 'CO', 'PE']\n",
    "\n",
    "# Filtrar los datos para conservar solo los registros de los países especificados\n",
    "data_paises = data[data['country_code'].isin(paises)]"
   ]
  },
  {
   "cell_type": "markdown",
   "metadata": {},
   "source": [
    "### **Creación de la tabla '1_tabla_hechos'**"
   ]
  },
  {
   "cell_type": "code",
   "execution_count": 5,
   "metadata": {},
   "outputs": [],
   "source": [
    "datos_hechos_cols = ['location_key', 'date', 'country_code', 'new_confirmed', 'new_deceased','cumulative_vaccine_doses_administered']\n",
    "\n",
    "datos_hechos = data_paises[datos_hechos_cols]\n",
    "datos_hechos.to_csv('1_tabla_hechos.csv', index=False)"
   ]
  },
  {
   "cell_type": "markdown",
   "metadata": {},
   "source": [
    "### **Creación de la tabla '2_tabla_clima'**"
   ]
  },
  {
   "cell_type": "code",
   "execution_count": 10,
   "metadata": {},
   "outputs": [],
   "source": [
    "datos_clima_cols = ['location_key','average_temperature_celsius', 'relative_humidity']\n",
    "\n",
    "datos_clima = data_paises[datos_clima_cols]\n",
    "datos_clima.to_csv('2_tabla_clima.csv', index=False)"
   ]
  },
  {
   "cell_type": "markdown",
   "metadata": {},
   "source": [
    "### **Creación de la tabla '3_tabla_rango_poblacion'**"
   ]
  },
  {
   "cell_type": "code",
   "execution_count": 19,
   "metadata": {},
   "outputs": [],
   "source": [
    "poblacion_rango_cols = ['location_key', 'population_age_00_09', 'population_age_10_19', 'population_age_20_29', 'population_age_30_39', \n",
    "                  'population_age_40_49', 'population_age_50_59', 'population_age_60_69', 'population_age_70_79', \n",
    "                  'population_age_80_and_older']\n",
    "\n",
    "poblacion_rango = data_paises[poblacion_rango_cols]\n",
    "poblacion_rango.to_csv('3_tabla_rango_poblacion.csv', index=False)"
   ]
  },
  {
   "cell_type": "markdown",
   "metadata": {},
   "source": [
    "### **Creación de la tabla '4_tabla_coordenadas'**"
   ]
  },
  {
   "cell_type": "code",
   "execution_count": 23,
   "metadata": {},
   "outputs": [],
   "source": [
    "coordenadas_cols = ['location_key', 'latitude', 'longitude']\n",
    "coordenadas = data_paises[coordenadas_cols]\n",
    "coordenadas.to_csv('4_tabla_coordenadas.csv', index=False)"
   ]
  },
  {
   "cell_type": "markdown",
   "metadata": {},
   "source": [
    "### **Creación de la tabla '5_tabla_poblacion'**"
   ]
  },
  {
   "cell_type": "code",
   "execution_count": 36,
   "metadata": {},
   "outputs": [],
   "source": [
    "poblacion_cols = ['location_key', 'population', 'population_male', 'population_female']\n",
    "poblacion = data_paises[poblacion_cols]\n",
    "poblacion.to_csv('5_tabla_poblacion.csv', index=False)"
   ]
  },
  {
   "cell_type": "markdown",
   "metadata": {},
   "source": [
    "### **Creación de la tabla '6_tabla_pais'**"
   ]
  },
  {
   "cell_type": "code",
   "execution_count": 41,
   "metadata": {},
   "outputs": [],
   "source": [
    "pais_cols = ['location_key', 'country_name', 'population_density', 'human_development_index',\n",
    " 'gdp_usd', 'gdp_per_capita_usd', 'area_sq_km', 'smoking_prevalence', 'diabetes_prevalence', 'infant_mortality_rate', 'nurses_per_1000', 'physicians_per_1000',\n",
    " 'population_largest_city', 'area_rural_sq_km', 'area_urban_sq_km', 'life_expectancy', 'adult_male_mortality_rate', 'adult_female_mortality_rate',\n",
    "'pollution_mortality_rate', 'comorbidity_mortality_rate']\n",
    "\n",
    "pais = data_paises[pais_cols]\n",
    "pais.to_csv('6_tabla_pais.csv', index=False)"
   ]
  }
 ],
 "metadata": {
  "kernelspec": {
   "display_name": "Python 3",
   "language": "python",
   "name": "python3"
  },
  "language_info": {
   "codemirror_mode": {
    "name": "ipython",
    "version": 3
   },
   "file_extension": ".py",
   "mimetype": "text/x-python",
   "name": "python",
   "nbconvert_exporter": "python",
   "pygments_lexer": "ipython3",
   "version": "3.11.5"
  }
 },
 "nbformat": 4,
 "nbformat_minor": 2
}
