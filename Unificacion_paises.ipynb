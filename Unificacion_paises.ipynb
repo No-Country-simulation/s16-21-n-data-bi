{
 "cells": [
  {
   "cell_type": "code",
   "execution_count": 3,
   "metadata": {},
   "outputs": [],
   "source": [
    "import pandas as pd\n",
    "import matplotlib as plt\n",
    "import matplotlib.pyplot as plt"
   ]
  },
  {
   "cell_type": "code",
   "execution_count": 4,
   "metadata": {},
   "outputs": [
    {
     "name": "stdout",
     "output_type": "stream",
     "text": [
      "Archivos unidos y guardados en 'archivo_unido.csv'\n"
     ]
    }
   ],
   "source": [
    "# Cargar los archivos CSV\n",
    "df1 = pd.read_csv('data/processed/covid19_Argentina.csv')\n",
    "df2 = pd.read_csv('data/processed/covid19_Brasil.csv')\n",
    "df3 = pd.read_csv('data/processed/covid19_Chile.csv')\n",
    "df4 = pd.read_csv('data/processed/covid19_Colombia.csv')\n",
    "df5 = pd.read_csv('data/processed/covid19_Peru.csv')\n",
    "\n",
    "# Unir los DataFrames\n",
    "df_unido = pd.concat([df1, df2, df3, df4, df5])\n",
    "\n",
    "# Guardar el DataFrame unido en un nuevo archivo CSV\n",
    "df_unido.to_csv('data/processed/data_paises_ML.csv', index=False)\n",
    "\n",
    "print(\"Archivos unidos y guardados en 'archivo_unido.csv'\")"
   ]
  }
 ],
 "metadata": {
  "kernelspec": {
   "display_name": "Python 3",
   "language": "python",
   "name": "python3"
  },
  "language_info": {
   "codemirror_mode": {
    "name": "ipython",
    "version": 3
   },
   "file_extension": ".py",
   "mimetype": "text/x-python",
   "name": "python",
   "nbconvert_exporter": "python",
   "pygments_lexer": "ipython3",
   "version": "3.10.11"
  }
 },
 "nbformat": 4,
 "nbformat_minor": 2
}
