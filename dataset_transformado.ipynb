{
  "cells": [
    {
      "cell_type": "code",
      "execution_count": 47,
      "metadata": {
        "id": "1qWhSFpxi-eN"
      },
      "outputs": [],
      "source": [
        "\n",
        "#URL_IDH = (f'https://datosmacro.expansion.com/otros/coronavirus-vacuna/argentina') #https://datosmacro.expansion.com/otros/coronavirus-vacuna/argentina"
      ]
    },
    {
      "cell_type": "code",
      "execution_count": 48,
      "metadata": {
        "colab": {
          "base_uri": "https://localhost:8080/"
        },
        "collapsed": true,
        "id": "AfXlLbqdi-b6",
        "outputId": "ba173c8f-8644-4114-9990-70442a1948c7"
      },
      "outputs": [
        {
          "data": {
            "text/plain": [
              "1"
            ]
          },
          "execution_count": 48,
          "metadata": {},
          "output_type": "execute_result"
        }
      ],
      "source": [
        "#data = pd.read_html(URL_IDH)\n",
        "#len(data)"
      ]
    },
    {
      "cell_type": "code",
      "execution_count": 51,
      "metadata": {
        "colab": {
          "base_uri": "https://localhost:8080/",
          "height": 424
        },
        "collapsed": true,
        "id": "ZZgwVFgKi-Xz",
        "outputId": "e8390143-67d6-4168-8064-81fbcac6bde5"
      },
      "outputs": [
        {
          "data": {
            "application/vnd.google.colaboratory.intrinsic+json": {
              "summary": "{\n  \"name\": \"data[0]\",\n  \"rows\": 100,\n  \"fields\": [\n    {\n      \"column\": \"Fecha\",\n      \"properties\": {\n        \"dtype\": \"object\",\n        \"num_unique_values\": 100,\n        \"samples\": [\n          \"05/11/2023\",\n          \"05/12/2023\",\n          \"18/11/2023\"\n        ],\n        \"semantic_type\": \"\",\n        \"description\": \"\"\n      }\n    },\n    {\n      \"column\": \"Dosis administradas\",\n      \"properties\": {\n        \"dtype\": \"string\",\n        \"num_unique_values\": 100,\n        \"samples\": [\n          \"116.574.182\",\n          \"116.667.861\",\n          \"116.623.358\"\n        ],\n        \"semantic_type\": \"\",\n        \"description\": \"\"\n      }\n    },\n    {\n      \"column\": \"Personas vacunadas\",\n      \"properties\": {\n        \"dtype\": \"string\",\n        \"num_unique_values\": 95,\n        \"samples\": [\n          \"41.519.671\",\n          \"41.523.844\",\n          \"41.518.926\"\n        ],\n        \"semantic_type\": \"\",\n        \"description\": \"\"\n      }\n    },\n    {\n      \"column\": \"Completamente vacunadas\",\n      \"properties\": {\n        \"dtype\": \"category\",\n        \"num_unique_values\": 27,\n        \"samples\": [\n          \"34.900.474\",\n          \"34.900.375\",\n          \"34.900.459\"\n        ],\n        \"semantic_type\": \"\",\n        \"description\": \"\"\n      }\n    },\n    {\n      \"column\": \"% completamente vacunadas\",\n      \"properties\": {\n        \"dtype\": \"category\",\n        \"num_unique_values\": 1,\n        \"samples\": [\n          \"76,19%\"\n        ],\n        \"semantic_type\": \"\",\n        \"description\": \"\"\n      }\n    }\n  ]\n}",
              "type": "dataframe"
            },
            "text/html": [
              "\n",
              "  <div id=\"df-663978db-b96c-4d65-8f04-d5f6a23676c6\" class=\"colab-df-container\">\n",
              "    <div>\n",
              "<style scoped>\n",
              "    .dataframe tbody tr th:only-of-type {\n",
              "        vertical-align: middle;\n",
              "    }\n",
              "\n",
              "    .dataframe tbody tr th {\n",
              "        vertical-align: top;\n",
              "    }\n",
              "\n",
              "    .dataframe thead th {\n",
              "        text-align: right;\n",
              "    }\n",
              "</style>\n",
              "<table border=\"1\" class=\"dataframe\">\n",
              "  <thead>\n",
              "    <tr style=\"text-align: right;\">\n",
              "      <th></th>\n",
              "      <th>Fecha</th>\n",
              "      <th>Dosis administradas</th>\n",
              "      <th>Personas vacunadas</th>\n",
              "      <th>Completamente vacunadas</th>\n",
              "      <th>% completamente vacunadas</th>\n",
              "    </tr>\n",
              "  </thead>\n",
              "  <tbody>\n",
              "    <tr>\n",
              "      <th>0</th>\n",
              "      <td>27/01/2024</td>\n",
              "      <td>116.978.521</td>\n",
              "      <td>41.529.058</td>\n",
              "      <td>34.900.613</td>\n",
              "      <td>76,19%</td>\n",
              "    </tr>\n",
              "    <tr>\n",
              "      <th>1</th>\n",
              "      <td>26/01/2024</td>\n",
              "      <td>116.976.959</td>\n",
              "      <td>41.529.042</td>\n",
              "      <td>34.900.613</td>\n",
              "      <td>76,19%</td>\n",
              "    </tr>\n",
              "    <tr>\n",
              "      <th>2</th>\n",
              "      <td>25/01/2024</td>\n",
              "      <td>116.953.546</td>\n",
              "      <td>41.528.533</td>\n",
              "      <td>34.900.613</td>\n",
              "      <td>76,19%</td>\n",
              "    </tr>\n",
              "    <tr>\n",
              "      <th>3</th>\n",
              "      <td>24/01/2024</td>\n",
              "      <td>116.930.513</td>\n",
              "      <td>41.527.971</td>\n",
              "      <td>34.900.613</td>\n",
              "      <td>76,19%</td>\n",
              "    </tr>\n",
              "    <tr>\n",
              "      <th>4</th>\n",
              "      <td>23/01/2024</td>\n",
              "      <td>116.915.867</td>\n",
              "      <td>41.527.597</td>\n",
              "      <td>34.900.613</td>\n",
              "      <td>76,19%</td>\n",
              "    </tr>\n",
              "    <tr>\n",
              "      <th>...</th>\n",
              "      <td>...</td>\n",
              "      <td>...</td>\n",
              "      <td>...</td>\n",
              "      <td>...</td>\n",
              "      <td>...</td>\n",
              "    </tr>\n",
              "    <tr>\n",
              "      <th>95</th>\n",
              "      <td>24/10/2023</td>\n",
              "      <td>116.531.042</td>\n",
              "      <td>41.516.065</td>\n",
              "      <td>34.900.205</td>\n",
              "      <td>76,19%</td>\n",
              "    </tr>\n",
              "    <tr>\n",
              "      <th>96</th>\n",
              "      <td>23/10/2023</td>\n",
              "      <td>116.525.210</td>\n",
              "      <td>41.515.922</td>\n",
              "      <td>34.900.179</td>\n",
              "      <td>76,19%</td>\n",
              "    </tr>\n",
              "    <tr>\n",
              "      <th>97</th>\n",
              "      <td>22/10/2023</td>\n",
              "      <td>116.519.772</td>\n",
              "      <td>41.515.783</td>\n",
              "      <td>34.900.159</td>\n",
              "      <td>76,19%</td>\n",
              "    </tr>\n",
              "    <tr>\n",
              "      <th>98</th>\n",
              "      <td>21/10/2023</td>\n",
              "      <td>116.519.726</td>\n",
              "      <td>41.515.783</td>\n",
              "      <td>34.900.158</td>\n",
              "      <td>76,19%</td>\n",
              "    </tr>\n",
              "    <tr>\n",
              "      <th>99</th>\n",
              "      <td>20/10/2023</td>\n",
              "      <td>116.518.853</td>\n",
              "      <td>41.515.778</td>\n",
              "      <td>34.900.157</td>\n",
              "      <td>76,19%</td>\n",
              "    </tr>\n",
              "  </tbody>\n",
              "</table>\n",
              "<p>100 rows × 5 columns</p>\n",
              "</div>\n",
              "    <div class=\"colab-df-buttons\">\n",
              "\n",
              "  <div class=\"colab-df-container\">\n",
              "    <button class=\"colab-df-convert\" onclick=\"convertToInteractive('df-663978db-b96c-4d65-8f04-d5f6a23676c6')\"\n",
              "            title=\"Convert this dataframe to an interactive table.\"\n",
              "            style=\"display:none;\">\n",
              "\n",
              "  <svg xmlns=\"http://www.w3.org/2000/svg\" height=\"24px\" viewBox=\"0 -960 960 960\">\n",
              "    <path d=\"M120-120v-720h720v720H120Zm60-500h600v-160H180v160Zm220 220h160v-160H400v160Zm0 220h160v-160H400v160ZM180-400h160v-160H180v160Zm440 0h160v-160H620v160ZM180-180h160v-160H180v160Zm440 0h160v-160H620v160Z\"/>\n",
              "  </svg>\n",
              "    </button>\n",
              "\n",
              "  <style>\n",
              "    .colab-df-container {\n",
              "      display:flex;\n",
              "      gap: 12px;\n",
              "    }\n",
              "\n",
              "    .colab-df-convert {\n",
              "      background-color: #E8F0FE;\n",
              "      border: none;\n",
              "      border-radius: 50%;\n",
              "      cursor: pointer;\n",
              "      display: none;\n",
              "      fill: #1967D2;\n",
              "      height: 32px;\n",
              "      padding: 0 0 0 0;\n",
              "      width: 32px;\n",
              "    }\n",
              "\n",
              "    .colab-df-convert:hover {\n",
              "      background-color: #E2EBFA;\n",
              "      box-shadow: 0px 1px 2px rgba(60, 64, 67, 0.3), 0px 1px 3px 1px rgba(60, 64, 67, 0.15);\n",
              "      fill: #174EA6;\n",
              "    }\n",
              "\n",
              "    .colab-df-buttons div {\n",
              "      margin-bottom: 4px;\n",
              "    }\n",
              "\n",
              "    [theme=dark] .colab-df-convert {\n",
              "      background-color: #3B4455;\n",
              "      fill: #D2E3FC;\n",
              "    }\n",
              "\n",
              "    [theme=dark] .colab-df-convert:hover {\n",
              "      background-color: #434B5C;\n",
              "      box-shadow: 0px 1px 3px 1px rgba(0, 0, 0, 0.15);\n",
              "      filter: drop-shadow(0px 1px 2px rgba(0, 0, 0, 0.3));\n",
              "      fill: #FFFFFF;\n",
              "    }\n",
              "  </style>\n",
              "\n",
              "    <script>\n",
              "      const buttonEl =\n",
              "        document.querySelector('#df-663978db-b96c-4d65-8f04-d5f6a23676c6 button.colab-df-convert');\n",
              "      buttonEl.style.display =\n",
              "        google.colab.kernel.accessAllowed ? 'block' : 'none';\n",
              "\n",
              "      async function convertToInteractive(key) {\n",
              "        const element = document.querySelector('#df-663978db-b96c-4d65-8f04-d5f6a23676c6');\n",
              "        const dataTable =\n",
              "          await google.colab.kernel.invokeFunction('convertToInteractive',\n",
              "                                                    [key], {});\n",
              "        if (!dataTable) return;\n",
              "\n",
              "        const docLinkHtml = 'Like what you see? Visit the ' +\n",
              "          '<a target=\"_blank\" href=https://colab.research.google.com/notebooks/data_table.ipynb>data table notebook</a>'\n",
              "          + ' to learn more about interactive tables.';\n",
              "        element.innerHTML = '';\n",
              "        dataTable['output_type'] = 'display_data';\n",
              "        await google.colab.output.renderOutput(dataTable, element);\n",
              "        const docLink = document.createElement('div');\n",
              "        docLink.innerHTML = docLinkHtml;\n",
              "        element.appendChild(docLink);\n",
              "      }\n",
              "    </script>\n",
              "  </div>\n",
              "\n",
              "\n",
              "<div id=\"df-51adf22e-f14e-40ce-a5d8-a28de4a852fe\">\n",
              "  <button class=\"colab-df-quickchart\" onclick=\"quickchart('df-51adf22e-f14e-40ce-a5d8-a28de4a852fe')\"\n",
              "            title=\"Suggest charts\"\n",
              "            style=\"display:none;\">\n",
              "\n",
              "<svg xmlns=\"http://www.w3.org/2000/svg\" height=\"24px\"viewBox=\"0 0 24 24\"\n",
              "     width=\"24px\">\n",
              "    <g>\n",
              "        <path d=\"M19 3H5c-1.1 0-2 .9-2 2v14c0 1.1.9 2 2 2h14c1.1 0 2-.9 2-2V5c0-1.1-.9-2-2-2zM9 17H7v-7h2v7zm4 0h-2V7h2v10zm4 0h-2v-4h2v4z\"/>\n",
              "    </g>\n",
              "</svg>\n",
              "  </button>\n",
              "\n",
              "<style>\n",
              "  .colab-df-quickchart {\n",
              "      --bg-color: #E8F0FE;\n",
              "      --fill-color: #1967D2;\n",
              "      --hover-bg-color: #E2EBFA;\n",
              "      --hover-fill-color: #174EA6;\n",
              "      --disabled-fill-color: #AAA;\n",
              "      --disabled-bg-color: #DDD;\n",
              "  }\n",
              "\n",
              "  [theme=dark] .colab-df-quickchart {\n",
              "      --bg-color: #3B4455;\n",
              "      --fill-color: #D2E3FC;\n",
              "      --hover-bg-color: #434B5C;\n",
              "      --hover-fill-color: #FFFFFF;\n",
              "      --disabled-bg-color: #3B4455;\n",
              "      --disabled-fill-color: #666;\n",
              "  }\n",
              "\n",
              "  .colab-df-quickchart {\n",
              "    background-color: var(--bg-color);\n",
              "    border: none;\n",
              "    border-radius: 50%;\n",
              "    cursor: pointer;\n",
              "    display: none;\n",
              "    fill: var(--fill-color);\n",
              "    height: 32px;\n",
              "    padding: 0;\n",
              "    width: 32px;\n",
              "  }\n",
              "\n",
              "  .colab-df-quickchart:hover {\n",
              "    background-color: var(--hover-bg-color);\n",
              "    box-shadow: 0 1px 2px rgba(60, 64, 67, 0.3), 0 1px 3px 1px rgba(60, 64, 67, 0.15);\n",
              "    fill: var(--button-hover-fill-color);\n",
              "  }\n",
              "\n",
              "  .colab-df-quickchart-complete:disabled,\n",
              "  .colab-df-quickchart-complete:disabled:hover {\n",
              "    background-color: var(--disabled-bg-color);\n",
              "    fill: var(--disabled-fill-color);\n",
              "    box-shadow: none;\n",
              "  }\n",
              "\n",
              "  .colab-df-spinner {\n",
              "    border: 2px solid var(--fill-color);\n",
              "    border-color: transparent;\n",
              "    border-bottom-color: var(--fill-color);\n",
              "    animation:\n",
              "      spin 1s steps(1) infinite;\n",
              "  }\n",
              "\n",
              "  @keyframes spin {\n",
              "    0% {\n",
              "      border-color: transparent;\n",
              "      border-bottom-color: var(--fill-color);\n",
              "      border-left-color: var(--fill-color);\n",
              "    }\n",
              "    20% {\n",
              "      border-color: transparent;\n",
              "      border-left-color: var(--fill-color);\n",
              "      border-top-color: var(--fill-color);\n",
              "    }\n",
              "    30% {\n",
              "      border-color: transparent;\n",
              "      border-left-color: var(--fill-color);\n",
              "      border-top-color: var(--fill-color);\n",
              "      border-right-color: var(--fill-color);\n",
              "    }\n",
              "    40% {\n",
              "      border-color: transparent;\n",
              "      border-right-color: var(--fill-color);\n",
              "      border-top-color: var(--fill-color);\n",
              "    }\n",
              "    60% {\n",
              "      border-color: transparent;\n",
              "      border-right-color: var(--fill-color);\n",
              "    }\n",
              "    80% {\n",
              "      border-color: transparent;\n",
              "      border-right-color: var(--fill-color);\n",
              "      border-bottom-color: var(--fill-color);\n",
              "    }\n",
              "    90% {\n",
              "      border-color: transparent;\n",
              "      border-bottom-color: var(--fill-color);\n",
              "    }\n",
              "  }\n",
              "</style>\n",
              "\n",
              "  <script>\n",
              "    async function quickchart(key) {\n",
              "      const quickchartButtonEl =\n",
              "        document.querySelector('#' + key + ' button');\n",
              "      quickchartButtonEl.disabled = true;  // To prevent multiple clicks.\n",
              "      quickchartButtonEl.classList.add('colab-df-spinner');\n",
              "      try {\n",
              "        const charts = await google.colab.kernel.invokeFunction(\n",
              "            'suggestCharts', [key], {});\n",
              "      } catch (error) {\n",
              "        console.error('Error during call to suggestCharts:', error);\n",
              "      }\n",
              "      quickchartButtonEl.classList.remove('colab-df-spinner');\n",
              "      quickchartButtonEl.classList.add('colab-df-quickchart-complete');\n",
              "    }\n",
              "    (() => {\n",
              "      let quickchartButtonEl =\n",
              "        document.querySelector('#df-51adf22e-f14e-40ce-a5d8-a28de4a852fe button');\n",
              "      quickchartButtonEl.style.display =\n",
              "        google.colab.kernel.accessAllowed ? 'block' : 'none';\n",
              "    })();\n",
              "  </script>\n",
              "</div>\n",
              "\n",
              "    </div>\n",
              "  </div>\n"
            ],
            "text/plain": [
              "         Fecha Dosis administradas Personas vacunadas Completamente vacunadas  \\\n",
              "0   27/01/2024         116.978.521         41.529.058              34.900.613   \n",
              "1   26/01/2024         116.976.959         41.529.042              34.900.613   \n",
              "2   25/01/2024         116.953.546         41.528.533              34.900.613   \n",
              "3   24/01/2024         116.930.513         41.527.971              34.900.613   \n",
              "4   23/01/2024         116.915.867         41.527.597              34.900.613   \n",
              "..         ...                 ...                ...                     ...   \n",
              "95  24/10/2023         116.531.042         41.516.065              34.900.205   \n",
              "96  23/10/2023         116.525.210         41.515.922              34.900.179   \n",
              "97  22/10/2023         116.519.772         41.515.783              34.900.159   \n",
              "98  21/10/2023         116.519.726         41.515.783              34.900.158   \n",
              "99  20/10/2023         116.518.853         41.515.778              34.900.157   \n",
              "\n",
              "   % completamente vacunadas  \n",
              "0                     76,19%  \n",
              "1                     76,19%  \n",
              "2                     76,19%  \n",
              "3                     76,19%  \n",
              "4                     76,19%  \n",
              "..                       ...  \n",
              "95                    76,19%  \n",
              "96                    76,19%  \n",
              "97                    76,19%  \n",
              "98                    76,19%  \n",
              "99                    76,19%  \n",
              "\n",
              "[100 rows x 5 columns]"
            ]
          },
          "execution_count": 51,
          "metadata": {},
          "output_type": "execute_result"
        }
      ],
      "source": [
        "#data[0]"
      ]
    },
    {
      "cell_type": "markdown",
      "metadata": {
        "id": "47PHby4MMGpj"
      },
      "source": [
        "----------------------------------------------------------------------"
      ]
    },
    {
      "cell_type": "code",
      "execution_count": 2,
      "metadata": {
        "colab": {
          "base_uri": "https://localhost:8080/"
        },
        "collapsed": true,
        "id": "vwEZrdkF-Ob_",
        "outputId": "6fa2a611-8771-4392-fb21-39443c6b71bf"
      },
      "outputs": [
        {
          "ename": "ModuleNotFoundError",
          "evalue": "No module named 'google.colab'",
          "output_type": "error",
          "traceback": [
            "\u001b[1;31m---------------------------------------------------------------------------\u001b[0m",
            "\u001b[1;31mModuleNotFoundError\u001b[0m                       Traceback (most recent call last)",
            "Cell \u001b[1;32mIn[2], line 1\u001b[0m\n\u001b[1;32m----> 1\u001b[0m \u001b[38;5;28;01mfrom\u001b[39;00m \u001b[38;5;21;01mgoogle\u001b[39;00m\u001b[38;5;21;01m.\u001b[39;00m\u001b[38;5;21;01mcolab\u001b[39;00m \u001b[38;5;28;01mimport\u001b[39;00m drive\n\u001b[0;32m      2\u001b[0m drive\u001b[38;5;241m.\u001b[39mmount(\u001b[38;5;124m'\u001b[39m\u001b[38;5;124m/content/drive\u001b[39m\u001b[38;5;124m'\u001b[39m)\n",
            "\u001b[1;31mModuleNotFoundError\u001b[0m: No module named 'google.colab'"
          ]
        }
      ],
      "source": [
        "from google.colab import drive\n",
        "drive.mount('/content/drive')"
      ]
    },
    {
      "cell_type": "code",
      "execution_count": null,
      "metadata": {
        "id": "gh9uPRJ-BL3T"
      },
      "outputs": [],
      "source": [
        "import pandas as pd\n",
        "\n",
        "df=pd.read_csv('/content/drive/MyDrive/data_paises (2).csv')"
      ]
    },
    {
      "cell_type": "code",
      "execution_count": 73,
      "metadata": {
        "id": "wDWn-4JJERNx"
      },
      "outputs": [],
      "source": [
        "#calcular columna vacunas administradas por dia\n",
        "g=df.cumulative_vaccine_doses_administered.tolist()\n",
        "h=[0.0]\n",
        "for i in range(1,len(g)):\n",
        "    h.append(g[i]-g[i-1])\n",
        "df['vaccine_doses_administered_for_day']=h"
      ]
    },
    {
      "cell_type": "code",
      "execution_count": 75,
      "metadata": {
        "colab": {
          "base_uri": "https://localhost:8080/"
        },
        "id": "ov6vsmFqFkgl",
        "outputId": "505f1cbb-043d-4b8e-d76b-6eb9594bdc5f"
      },
      "outputs": [
        {
          "data": {
            "text/plain": [
              "68283695.0"
            ]
          },
          "execution_count": 75,
          "metadata": {},
          "output_type": "execute_result"
        }
      ],
      "source": [
        "df.vaccine_doses_administered_for_day.max()"
      ]
    },
    {
      "cell_type": "code",
      "execution_count": 76,
      "metadata": {
        "colab": {
          "base_uri": "https://localhost:8080/",
          "height": 147
        },
        "id": "AUnvSSX_Fsvr",
        "outputId": "951d6e8e-9b23-4e5b-851c-c2c080af767b"
      },
      "outputs": [
        {
          "data": {
            "application/vnd.google.colaboratory.intrinsic+json": {
              "type": "dataframe"
            },
            "text/html": [
              "\n",
              "  <div id=\"df-8fcec08c-1793-49ed-8895-a54ee057b2da\" class=\"colab-df-container\">\n",
              "    <div>\n",
              "<style scoped>\n",
              "    .dataframe tbody tr th:only-of-type {\n",
              "        vertical-align: middle;\n",
              "    }\n",
              "\n",
              "    .dataframe tbody tr th {\n",
              "        vertical-align: top;\n",
              "    }\n",
              "\n",
              "    .dataframe thead th {\n",
              "        text-align: right;\n",
              "    }\n",
              "</style>\n",
              "<table border=\"1\" class=\"dataframe\">\n",
              "  <thead>\n",
              "    <tr style=\"text-align: right;\">\n",
              "      <th></th>\n",
              "      <th>location_key</th>\n",
              "      <th>date</th>\n",
              "      <th>country_code</th>\n",
              "      <th>country_name</th>\n",
              "      <th>new_confirmed</th>\n",
              "      <th>new_deceased</th>\n",
              "      <th>cumulative_vaccine_doses_administered</th>\n",
              "      <th>population</th>\n",
              "      <th>population_male</th>\n",
              "      <th>population_female</th>\n",
              "      <th>...</th>\n",
              "      <th>relative_humidity</th>\n",
              "      <th>population_largest_city</th>\n",
              "      <th>area_rural_sq_km</th>\n",
              "      <th>area_urban_sq_km</th>\n",
              "      <th>life_expectancy</th>\n",
              "      <th>adult_male_mortality_rate</th>\n",
              "      <th>adult_female_mortality_rate</th>\n",
              "      <th>pollution_mortality_rate</th>\n",
              "      <th>comorbidity_mortality_rate</th>\n",
              "      <th>vaccine_doses_administered_for_day</th>\n",
              "    </tr>\n",
              "  </thead>\n",
              "  <tbody>\n",
              "    <tr>\n",
              "      <th>871</th>\n",
              "      <td>AR</td>\n",
              "      <td>2022-05-21</td>\n",
              "      <td>AR</td>\n",
              "      <td>Argentina</td>\n",
              "      <td>4482.0</td>\n",
              "      <td>5.0</td>\n",
              "      <td>101952034.0</td>\n",
              "      <td>44938712.0</td>\n",
              "      <td>19523766.0</td>\n",
              "      <td>20593330.0</td>\n",
              "      <td>...</td>\n",
              "      <td>49.857607</td>\n",
              "      <td>15057273.0</td>\n",
              "      <td>2690269.0</td>\n",
              "      <td>55032.0</td>\n",
              "      <td>76.52</td>\n",
              "      <td>147.086</td>\n",
              "      <td>79.483</td>\n",
              "      <td>26.6</td>\n",
              "      <td>15.8</td>\n",
              "      <td>68283695.0</td>\n",
              "    </tr>\n",
              "  </tbody>\n",
              "</table>\n",
              "<p>1 rows × 42 columns</p>\n",
              "</div>\n",
              "    <div class=\"colab-df-buttons\">\n",
              "\n",
              "  <div class=\"colab-df-container\">\n",
              "    <button class=\"colab-df-convert\" onclick=\"convertToInteractive('df-8fcec08c-1793-49ed-8895-a54ee057b2da')\"\n",
              "            title=\"Convert this dataframe to an interactive table.\"\n",
              "            style=\"display:none;\">\n",
              "\n",
              "  <svg xmlns=\"http://www.w3.org/2000/svg\" height=\"24px\" viewBox=\"0 -960 960 960\">\n",
              "    <path d=\"M120-120v-720h720v720H120Zm60-500h600v-160H180v160Zm220 220h160v-160H400v160Zm0 220h160v-160H400v160ZM180-400h160v-160H180v160Zm440 0h160v-160H620v160ZM180-180h160v-160H180v160Zm440 0h160v-160H620v160Z\"/>\n",
              "  </svg>\n",
              "    </button>\n",
              "\n",
              "  <style>\n",
              "    .colab-df-container {\n",
              "      display:flex;\n",
              "      gap: 12px;\n",
              "    }\n",
              "\n",
              "    .colab-df-convert {\n",
              "      background-color: #E8F0FE;\n",
              "      border: none;\n",
              "      border-radius: 50%;\n",
              "      cursor: pointer;\n",
              "      display: none;\n",
              "      fill: #1967D2;\n",
              "      height: 32px;\n",
              "      padding: 0 0 0 0;\n",
              "      width: 32px;\n",
              "    }\n",
              "\n",
              "    .colab-df-convert:hover {\n",
              "      background-color: #E2EBFA;\n",
              "      box-shadow: 0px 1px 2px rgba(60, 64, 67, 0.3), 0px 1px 3px 1px rgba(60, 64, 67, 0.15);\n",
              "      fill: #174EA6;\n",
              "    }\n",
              "\n",
              "    .colab-df-buttons div {\n",
              "      margin-bottom: 4px;\n",
              "    }\n",
              "\n",
              "    [theme=dark] .colab-df-convert {\n",
              "      background-color: #3B4455;\n",
              "      fill: #D2E3FC;\n",
              "    }\n",
              "\n",
              "    [theme=dark] .colab-df-convert:hover {\n",
              "      background-color: #434B5C;\n",
              "      box-shadow: 0px 1px 3px 1px rgba(0, 0, 0, 0.15);\n",
              "      filter: drop-shadow(0px 1px 2px rgba(0, 0, 0, 0.3));\n",
              "      fill: #FFFFFF;\n",
              "    }\n",
              "  </style>\n",
              "\n",
              "    <script>\n",
              "      const buttonEl =\n",
              "        document.querySelector('#df-8fcec08c-1793-49ed-8895-a54ee057b2da button.colab-df-convert');\n",
              "      buttonEl.style.display =\n",
              "        google.colab.kernel.accessAllowed ? 'block' : 'none';\n",
              "\n",
              "      async function convertToInteractive(key) {\n",
              "        const element = document.querySelector('#df-8fcec08c-1793-49ed-8895-a54ee057b2da');\n",
              "        const dataTable =\n",
              "          await google.colab.kernel.invokeFunction('convertToInteractive',\n",
              "                                                    [key], {});\n",
              "        if (!dataTable) return;\n",
              "\n",
              "        const docLinkHtml = 'Like what you see? Visit the ' +\n",
              "          '<a target=\"_blank\" href=https://colab.research.google.com/notebooks/data_table.ipynb>data table notebook</a>'\n",
              "          + ' to learn more about interactive tables.';\n",
              "        element.innerHTML = '';\n",
              "        dataTable['output_type'] = 'display_data';\n",
              "        await google.colab.output.renderOutput(dataTable, element);\n",
              "        const docLink = document.createElement('div');\n",
              "        docLink.innerHTML = docLinkHtml;\n",
              "        element.appendChild(docLink);\n",
              "      }\n",
              "    </script>\n",
              "  </div>\n",
              "\n",
              "\n",
              "    </div>\n",
              "  </div>\n"
            ],
            "text/plain": [
              "    location_key        date country_code country_name  new_confirmed  \\\n",
              "871           AR  2022-05-21           AR    Argentina         4482.0   \n",
              "\n",
              "     new_deceased  cumulative_vaccine_doses_administered  population  \\\n",
              "871           5.0                            101952034.0  44938712.0   \n",
              "\n",
              "     population_male  population_female  ...  relative_humidity  \\\n",
              "871       19523766.0         20593330.0  ...          49.857607   \n",
              "\n",
              "     population_largest_city  area_rural_sq_km  area_urban_sq_km  \\\n",
              "871               15057273.0         2690269.0           55032.0   \n",
              "\n",
              "     life_expectancy  adult_male_mortality_rate  adult_female_mortality_rate  \\\n",
              "871            76.52                    147.086                       79.483   \n",
              "\n",
              "     pollution_mortality_rate  comorbidity_mortality_rate  \\\n",
              "871                      26.6                        15.8   \n",
              "\n",
              "     vaccine_doses_administered_for_day  \n",
              "871                          68283695.0  \n",
              "\n",
              "[1 rows x 42 columns]"
            ]
          },
          "execution_count": 76,
          "metadata": {},
          "output_type": "execute_result"
        }
      ],
      "source": [
        "df[df.vaccine_doses_administered_for_day==68283695.0]"
      ]
    },
    {
      "cell_type": "markdown",
      "metadata": {
        "id": "MRFQfCuNK5dZ"
      },
      "source": [
        "conclusion :  existe  variaciones entre fuentes de donde se extrae la data respecto a la columna en discucion, no sea consistente en la informacion . consultar : https://datosmacro.expansion.com/otros/coronavirus-vacuna/argentina"
      ]
    },
    {
      "cell_type": "code",
      "execution_count": 60,
      "metadata": {
        "colab": {
          "base_uri": "https://localhost:8080/"
        },
        "id": "wbxzA9zeFFwH",
        "outputId": "b245a5ab-6a87-4227-9bdb-7ea215ae4a54"
      },
      "outputs": [
        {
          "name": "stdout",
          "output_type": "stream",
          "text": [
            "<class 'pandas.core.frame.DataFrame'>\n",
            "RangeIndex: 2808 entries, 0 to 2807\n",
            "Data columns (total 41 columns):\n",
            " #   Column                                 Non-Null Count  Dtype         \n",
            "---  ------                                 --------------  -----         \n",
            " 0   location_key                           2808 non-null   object        \n",
            " 1   date                                   2808 non-null   datetime64[ns]\n",
            " 2   country_code                           2808 non-null   object        \n",
            " 3   country_name                           2808 non-null   object        \n",
            " 4   new_confirmed                          2808 non-null   float64       \n",
            " 5   new_deceased                           2808 non-null   float64       \n",
            " 6   cumulative_vaccine_doses_administered  2808 non-null   float64       \n",
            " 7   population                             2808 non-null   float64       \n",
            " 8   population_male                        2808 non-null   float64       \n",
            " 9   population_female                      2808 non-null   float64       \n",
            " 10  population_density                     2808 non-null   float64       \n",
            " 11  human_development_index                2808 non-null   float64       \n",
            " 12  population_age_00_09                   2808 non-null   float64       \n",
            " 13  population_age_10_19                   2808 non-null   float64       \n",
            " 14  population_age_20_29                   2808 non-null   float64       \n",
            " 15  population_age_30_39                   2808 non-null   float64       \n",
            " 16  population_age_40_49                   2808 non-null   float64       \n",
            " 17  population_age_50_59                   2808 non-null   float64       \n",
            " 18  population_age_60_69                   2808 non-null   float64       \n",
            " 19  population_age_70_79                   2808 non-null   float64       \n",
            " 20  population_age_80_and_older            2808 non-null   float64       \n",
            " 21  gdp_usd                                2808 non-null   float64       \n",
            " 22  gdp_per_capita_usd                     2808 non-null   float64       \n",
            " 23  latitude                               2808 non-null   float64       \n",
            " 24  longitude                              2808 non-null   float64       \n",
            " 25  area_sq_km                             2808 non-null   float64       \n",
            " 26  smoking_prevalence                     2808 non-null   float64       \n",
            " 27  diabetes_prevalence                    2808 non-null   float64       \n",
            " 28  infant_mortality_rate                  2808 non-null   float64       \n",
            " 29  nurses_per_1000                        2808 non-null   float64       \n",
            " 30  physicians_per_1000                    2808 non-null   float64       \n",
            " 31  average_temperature_celsius            2808 non-null   float64       \n",
            " 32  relative_humidity                      2808 non-null   float64       \n",
            " 33  population_largest_city                2808 non-null   float64       \n",
            " 34  area_rural_sq_km                       2808 non-null   float64       \n",
            " 35  area_urban_sq_km                       2808 non-null   float64       \n",
            " 36  life_expectancy                        2808 non-null   float64       \n",
            " 37  adult_male_mortality_rate              2808 non-null   float64       \n",
            " 38  adult_female_mortality_rate            2808 non-null   float64       \n",
            " 39  pollution_mortality_rate               2808 non-null   float64       \n",
            " 40  comorbidity_mortality_rate             2808 non-null   float64       \n",
            "dtypes: datetime64[ns](1), float64(37), object(3)\n",
            "memory usage: 899.6+ KB\n"
          ]
        }
      ],
      "source": [
        "df.info() #pd.to_datetime('10/11/12', format='%d/%y/%m')"
      ]
    },
    {
      "cell_type": "markdown",
      "metadata": {
        "id": "H2h0ezTjx3zp"
      },
      "source": [
        "##visualizacion de datos atipicos\n"
      ]
    },
    {
      "cell_type": "code",
      "execution_count": 128,
      "metadata": {
        "colab": {
          "base_uri": "https://localhost:8080/",
          "height": 445
        },
        "id": "-b9wNUrTBuCM",
        "outputId": "3d9e15c6-ab51-4874-adfe-a088a48372f8"
      },
      "outputs": [
        {
          "data": {
            "image/png": "[encoded data removed]",
            "text/plain": [
              "<Figure size 640x480 with 1 Axes>"
            ]
          },
          "metadata": {},
          "output_type": "display_data"
        }
      ],
      "source": [
        "import matplotlib.pyplot as plt\n",
        "\n",
        "fig, ax = plt.subplots()\n",
        "ax.boxplot(df.vaccine_doses_administered_for_day)\n",
        "plt.grid()\n",
        "plt.show()"
      ]
    },
    {
      "cell_type": "code",
      "execution_count": 103,
      "metadata": {
        "colab": {
          "base_uri": "https://localhost:8080/",
          "height": 445
        },
        "id": "_8KI2kHSBuRv",
        "outputId": "5073d6de-2835-4d23-c53f-72aa70ad7255"
      },
      "outputs": [
        {
          "data": {
            "image/png": "[encoded data removed]",
            "text/plain": [
              "<Figure size 640x480 with 1 Axes>"
            ]
          },
          "metadata": {},
          "output_type": "display_data"
        }
      ],
      "source": [
        "# en escala de -100000 a 1000000\n",
        "import matplotlib.pyplot as plt\n",
        "\n",
        "fig, ax = plt.subplots()\n",
        "ax.boxplot(df.vaccine_doses_administered_for_day)\n",
        "plt.ylim([-100000,1000000])\n",
        "plt.grid()\n",
        "plt.show()\n"
      ]
    },
    {
      "cell_type": "markdown",
      "metadata": {
        "id": "hhtEO5Ss7j14"
      },
      "source": [
        "##bosquejo de valores atipicos"
      ]
    },
    {
      "cell_type": "markdown",
      "metadata": {
        "id": "WtqBcCF-Hki0"
      },
      "source": [
        "![image.png](data:image/png;base64,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)"
      ]
    },
    {
      "cell_type": "code",
      "execution_count": 105,
      "metadata": {
        "colab": {
          "base_uri": "https://localhost:8080/"
        },
        "id": "GKcV6MC-Bt1W",
        "outputId": "59f286c0-06a7-4c0b-cc98-401e790de5f5"
      },
      "outputs": [
        {
          "name": "stdout",
          "output_type": "stream",
          "text": [
            "metodo IQR:  [-109204825.0, -87566541.0, 282300.0, 282672.0, 282807.0, 283038.0, 283709.0, 284256.0, 284729.0, 285085.0, 285212.0, 285625.0, 285713.0, 285869.0, 288154.0, 289442.0, 289931.0, 290624.0, 290845.0, 291154.0, 291534.0, 292171.0, 292695.0, 295604.0, 295662.0, 295957.0, 296456.0, 297928.0, 299055.0, 300683.0, 302744.0, 302781.0, 305103.0, 305527.0, 305618.0, 307314.0, 307374.0, 307941.0, 308387.0, 308842.0, 309660.0, 309896.0, 310004.0, 310426.0, 311048.0, 312079.0, 312395.0, 312806.0, 314716.0, 314972.0, 316068.0, 316090.0, 316316.0, 316703.0, 317067.0, 317727.0, 317865.0, 318149.0, 319293.0, 321490.0, 322626.0, 322831.0, 324603.0, 324729.0, 325616.0, 327040.0, 327290.0, 327428.0, 327875.0, 328613.0, 328817.0, 328841.0, 329301.0, 329789.0, 330694.0, 332236.0, 333853.0, 337150.0, 338327.0, 338517.0, 338626.0, 338751.0, 339039.0, 339791.0, 340237.0, 340352.0, 343111.0, 345061.0, 345301.0, 346851.0, 347983.0, 350202.0, 350995.0, 354506.0, 356382.0, 357854.0, 361948.0, 363572.0, 366111.0, 366200.0, 367635.0, 371023.0, 373237.0, 374779.0, 377063.0, 378951.0, 379387.0, 379770.0, 380257.0, 382147.0, 382861.0, 383505.0, 389234.0, 399197.0, 401123.0, 401725.0, 402179.0, 402647.0, 404090.0, 405413.0, 406525.0, 409161.0, 410032.0, 411336.0, 413269.0, 415461.0, 423338.0, 424109.0, 425514.0, 426877.0, 427121.0, 433282.0, 433659.0, 440184.0, 449937.0, 454696.0, 456202.0, 456555.0, 461116.0, 464745.0, 465604.0, 486616.0, 487064.0, 492023.0, 492242.0, 494730.0, 498029.0, 505238.0, 505669.0, 514694.0, 526525.0, 531770.0, 535274.0, 539948.0, 543558.0, 545628.0, 558780.0, 578582.0, 594299.0, 603810.0, 605401.0, 612579.0, 614883.0, 665219.0, 665563.0, 692982.0, 713447.0, 724815.0, 730708.0, 740577.0, 762518.0, 767542.0, 774955.0, 798565.0, 807631.0, 815866.0, 818906.0, 828036.0, 829114.0, 876331.0, 895263.0, 900756.0, 922521.0, 956374.0, 1009050.0, 1036209.0, 68283695.0]\n"
          ]
        }
      ],
      "source": [
        "#datos atipicos\n",
        "data_copia=df.copy()\n",
        "atipicos = []\n",
        "\n",
        "data_copia.vaccine_doses_administered_for_day = sorted(data_copia.vaccine_doses_administered_for_day)\n",
        "q1 = data_copia.vaccine_doses_administered_for_day.quantile(0.25)\n",
        "q3 =data_copia.vaccine_doses_administered_for_day.quantile(0.75)\n",
        "\n",
        "#rango intercuartil\n",
        "IQR = q3-q1\n",
        "lwr_bound = q1-(1.5*IQR)\n",
        "upr_bound = q3+(1.5*IQR)\n",
        "\n",
        "dtos=list(data_copia.vaccine_doses_administered_for_day)\n",
        "for i in dtos:\n",
        "    if (i<lwr_bound or i>upr_bound):\n",
        "        atipicos.append(i)\n",
        "\n",
        "print(\"metodo IQR: \", atipicos)"
      ]
    },
    {
      "cell_type": "code",
      "execution_count": 106,
      "metadata": {
        "colab": {
          "base_uri": "https://localhost:8080/"
        },
        "id": "dluFwLuJBtn9",
        "outputId": "551d7800-4799-43e7-f0b1-b588d361e715"
      },
      "outputs": [
        {
          "data": {
            "text/plain": [
              "187"
            ]
          },
          "execution_count": 106,
          "metadata": {},
          "output_type": "execute_result"
        }
      ],
      "source": [
        "len(atipicos) # cantidad atipicos"
      ]
    },
    {
      "cell_type": "markdown",
      "metadata": {
        "id": "ade2xMmx9R6Q"
      },
      "source": [
        "## TRATAMIENTO DE VALORES ATIPICOS\n",
        "- mencion de tres metodos\n",
        "\n",
        "  - Recortar/Eliminar los valores atípicos :En esta técnica, quitamos los valores atípicos del conjunto de datos. Aunque no es una buena práctica a seguir\n",
        "  - Uso de percentil 90 y 10  : si los valores son mayores al percentil 90 reemplazar el percentil 90  y si son menores al percentil 10 reemplazar el percentil 10\n",
        "  -  reemplazo por mediana o media"
      ]
    },
    {
      "cell_type": "code",
      "execution_count": 107,
      "metadata": {
        "colab": {
          "base_uri": "https://localhost:8080/"
        },
        "id": "aFjDz-2q8zus",
        "outputId": "de9b2a61-3510-4f21-f0be-1e92cc62ab71"
      },
      "outputs": [
        {
          "data": {
            "text/plain": [
              "29656.00747863248"
            ]
          },
          "execution_count": 107,
          "metadata": {},
          "output_type": "execute_result"
        }
      ],
      "source": [
        "# calculemos la media\n",
        "media = data_copia['vaccine_doses_administered_for_day'].mean()\n",
        "media"
      ]
    },
    {
      "cell_type": "code",
      "execution_count": 123,
      "metadata": {
        "id": "SXEcwcB2Ansg"
      },
      "outputs": [],
      "source": [
        "#inputacion de valores atipicos\n",
        "lista= data_copia['vaccine_doses_administered_for_day'].tolist()\n",
        "for i in range(len(lista)):\n",
        "  if lista[i] in atipicos:\n",
        "    lista[i]=round(media)\n",
        "data_copia['vaccine_doses_administered_for_day']=lista\n"
      ]
    },
    {
      "cell_type": "markdown",
      "metadata": {
        "id": "_OYDcw8BFHDz"
      },
      "source": [
        "##diagrama de caja despues de inputacion de datos atipicos"
      ]
    },
    {
      "cell_type": "code",
      "execution_count": 124,
      "metadata": {
        "colab": {
          "base_uri": "https://localhost:8080/",
          "height": 430
        },
        "id": "diy8L9wc_DsM",
        "outputId": "1392e5e3-8915-4332-e675-1d31e4e55211"
      },
      "outputs": [
        {
          "data": {
            "image/png": "[encoded data removed]",
            "text/plain": [
              "<Figure size 640x480 with 1 Axes>"
            ]
          },
          "metadata": {},
          "output_type": "display_data"
        }
      ],
      "source": [
        "import matplotlib.pyplot as plt\n",
        "\n",
        "fig, ax = plt.subplots()\n",
        "ax.boxplot(data_copia.vaccine_doses_administered_for_day)\n",
        "plt.show()"
      ]
    },
    {
      "cell_type": "code",
      "execution_count": 125,
      "metadata": {
        "id": "CKPw83TwJp_4"
      },
      "outputs": [],
      "source": [
        "# exportar csv\n",
        "\n",
        "data_copia.to_csv('data_paises_transform.csv',index=False)"
      ]
    }
  ],
  "metadata": {
    "colab": {
      "provenance": []
    },
    "kernelspec": {
      "display_name": "Python 3",
      "name": "python3"
    },
    "language_info": {
      "codemirror_mode": {
        "name": "ipython",
        "version": 3
      },
      "file_extension": ".py",
      "mimetype": "text/x-python",
      "name": "python",
      "nbconvert_exporter": "python",
      "pygments_lexer": "ipython3",
      "version": "3.11.5"
    }
  },
  "nbformat": 4,
  "nbformat_minor": 0
}
